{
 "cells": [
  {
   "cell_type": "markdown",
   "metadata": {},
   "source": [
    "## Dataset Information Visualisation\n",
    "\n",
    "### This script is used to output a pie chart of the distribution of categories and a bar chart of the number of categories for the current dataset, and to print the number of targets and the number of images in that dataset on the console. (A single image may contain multiple targets)\n",
    "### Called via a function.\n",
    "### Can also be used for subsets."
   ]
  },
  {
   "cell_type": "code",
   "execution_count": null,
   "metadata": {},
   "outputs": [],
   "source": [
    "import os\n",
    "import matplotlib.pyplot as plt\n",
    "\n",
    "def analyze_yolo_dataset_total(dataset_path, dataset_name):\n",
    "    emotions = ['surprise', 'fear', 'disgust', 'happiness', 'sadness', 'anger', 'neutral']\n",
    "    emotion_counts = {emotion: 0 for emotion in emotions}\n",
    "    txt_file_count = 0\n",
    "\n",
    "    for root, _, files in os.walk(dataset_path):\n",
    "        for file_name in files:\n",
    "            if file_name.endswith('.txt'):\n",
    "                txt_file_count += 1  \n",
    "                txt_file_path = os.path.join(root, file_name)\n",
    "                \n",
    "                try:\n",
    "                    with open(txt_file_path, 'r') as file:\n",
    "                        lines = file.readlines()\n",
    "                        for line in lines:\n",
    "                            emotion_id = int(line.split()[0])\n",
    "                            emotion = emotions[emotion_id]\n",
    "                            emotion_counts[emotion] += 1\n",
    "                except Exception as e:\n",
    "                    print(f\"Error reading file {file_name}: {e}\")\n",
    "                    continue\n",
    "    for emotion, count in emotion_counts.items():\n",
    "        print(f'{emotion}: {count} instances')\n",
    "\n",
    "    print(f'Total number of txt files read: {txt_file_count}')\n",
    "\n",
    "    fig, (ax1, ax2) = plt.subplots(1, 2, figsize=(20, 8))\n",
    "\n",
    "    wedges, texts, autotexts = ax1.pie(emotion_counts.values(), labels=emotion_counts.keys(), autopct='%1.1f%%', startangle=140)\n",
    "    ax1.set_title(f'Distribution of Emotions in {dataset_name}', fontweight='bold', fontsize=14)\n",
    "    ax1.axis('equal') \n",
    "\n",
    "    for text in texts + autotexts:\n",
    "        text.set_fontsize(17)\n",
    "        text.set_fontweight('bold')\n",
    "\n",
    "    bars = ax2.bar(emotion_counts.keys(), emotion_counts.values(), color='skyblue')\n",
    "    ax2.set_xlabel('Emotions', fontweight='bold', fontsize=17)\n",
    "    ax2.set_ylabel('Number of Instances', fontweight='bold', fontsize=17)\n",
    "    ax2.set_title(f'Number of Instances for Each Emotion in {dataset_name}', fontweight='bold', fontsize=14)\n",
    "\n",
    "    for bar in bars:\n",
    "        yval = bar.get_height()\n",
    "        ax2.text(bar.get_x() + bar.get_width()/2, yval, int(yval), ha='center', va='bottom', fontweight='bold', fontsize=17)\n",
    "\n",
    "    ax2.tick_params(axis='x', labelsize=14)\n",
    "    ax2.tick_params(axis='y', labelsize=14)\n",
    "\n",
    "    plt.show()\n"
   ]
  },
  {
   "cell_type": "code",
   "execution_count": null,
   "metadata": {},
   "outputs": [],
   "source": [
    "dataset_path = '/Users/piglet/Desktop/Project_Code/RAFDB/workspace/RAFDB_YOLO-detection'\n",
    "dataset_name = 'RAF-DB_YOLO Detection Dataset'\n",
    "analyze_yolo_dataset_total(dataset_path, dataset_name)"
   ]
  }
 ],
 "metadata": {
  "language_info": {
   "name": "python"
  }
 },
 "nbformat": 4,
 "nbformat_minor": 2
}
